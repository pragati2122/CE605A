{
  "cells": [
    {
      "cell_type": "markdown",
      "metadata": {
        "id": "view-in-github",
        "colab_type": "text"
      },
      "source": [
        "<a href=\"https://colab.research.google.com/github/pragati2122/CE605A/blob/main/CE605A.ipynb\" target=\"_parent\"><img src=\"https://colab.research.google.com/assets/colab-badge.svg\" alt=\"Open In Colab\"/></a>"
      ]
    },
    {
      "cell_type": "code",
      "execution_count": null,
      "id": "97f04796-0cdf-4463-aa6f-62224ce8271e",
      "metadata": {
        "tags": [],
        "id": "97f04796-0cdf-4463-aa6f-62224ce8271e",
        "outputId": "25131960-1552-4d00-c06a-b801244d37f4"
      },
      "outputs": [
        {
          "name": "stdin",
          "output_type": "stream",
          "text": [
            "Enter 5 values for 1 row separated by spaces:  1 2 3 4 5\n",
            "Enter 5 values for 1 column separated by spaces:  1 2 3 4 5\n"
          ]
        }
      ],
      "source": [
        "import numpy as np\n",
        "\n",
        "# 1. Create a row and column vector using input method and manually.\n",
        "rows,cols = 1,5\n",
        "matrix_input = []\n",
        "for i in range(rows):\n",
        "    # Get the first row input in one go\n",
        "    values = input(f\"Enter {cols} values for {i+1} row separated by spaces: \").split()\n",
        "    matrix_input.append(values)\n",
        "row_vec_input = np.array(matrix_input)# Convert the list of lists to a NumPy array\n",
        "\n",
        "rows,cols = 5,1\n",
        "matrix_input = []\n",
        "for i in range(cols):\n",
        "    # Get the first row input in one go\n",
        "    values = input(f\"Enter {rows} values for {i+1} column separated by spaces: \").split()\n",
        "    matrix_input.append(values)\n",
        "column_vec_input = np.array(matrix_input)# Convert the list of lists to a NumPy array\n"
      ]
    },
    {
      "cell_type": "code",
      "execution_count": null,
      "id": "72fee9e3-7d8d-439a-8627-4046b2eb7d80",
      "metadata": {
        "tags": [],
        "id": "72fee9e3-7d8d-439a-8627-4046b2eb7d80",
        "outputId": "91bd3f76-1666-4f77-9d38-7f32f2693acf"
      },
      "outputs": [
        {
          "data": {
            "text/plain": [
              "array([[1],\n",
              "       [2],\n",
              "       [3],\n",
              "       [4],\n",
              "       [5]])"
            ]
          },
          "execution_count": 128,
          "metadata": {},
          "output_type": "execute_result"
        }
      ],
      "source": [
        "# 1. Create a row and column vector manually.\n",
        "row_vec_manual = np.array([[1, 2, 3, 4, 5]])\n",
        "col_vec_manual = row_vec_manual.reshape(-1,1)\n"
      ]
    },
    {
      "cell_type": "code",
      "execution_count": null,
      "id": "9bff280a-df24-48c2-a680-45524d01f3c6",
      "metadata": {
        "id": "9bff280a-df24-48c2-a680-45524d01f3c6"
      },
      "outputs": [],
      "source": [
        "# 2. Using input method to create a matrix\n",
        "rows,cols = 5,5\n",
        "matrix_input = []\n",
        "for i in range(rows):\n",
        "    # Get the first row input in one go\n",
        "    values = input(f\"Enter {rows} values for {i+1} row separated by spaces: \").split()\n",
        "    matrix_input.append(values)\n",
        "a = np.array(matrix_input)# Convert the list of lists to a NumPy array\n",
        "np.save(\"a.npy\", a)"
      ]
    },
    {
      "cell_type": "code",
      "execution_count": null,
      "id": "ae47f0fd-958f-4eb9-b46b-4e145097de16",
      "metadata": {
        "tags": [],
        "id": "ae47f0fd-958f-4eb9-b46b-4e145097de16",
        "outputId": "49cf22d3-973b-4d02-ba2f-2cf9e8780d0b"
      },
      "outputs": [
        {
          "data": {
            "text/plain": [
              "array([[ 1,  2,  3,  4,  5],\n",
              "       [ 6,  7,  8,  9, 10],\n",
              "       [11, 12, 13, 15, 17],\n",
              "       [16, 17, 18, 19, 22],\n",
              "       [24, 28, 23, 29, 21]])"
            ]
          },
          "execution_count": 111,
          "metadata": {},
          "output_type": "execute_result"
        }
      ],
      "source": [
        "\n",
        "# 2. using manual method to create a 5 by 5 matrix\n",
        "matrix_manual = np.array([\n",
        "    [1, 2, 3, 4, 5],\n",
        "    [6, 7, 8, 9, 10],\n",
        "    [11, 12, 13, 15, 17],\n",
        "    [16, 17, 18, 19, 22],\n",
        "    [24, 28, 23, 29, 21]\n",
        "])\n",
        "a=matrix_manual # saving with the name a1 so that the names are different\n",
        "#np.save(\"a.npy\", a)\n",
        "a"
      ]
    },
    {
      "cell_type": "code",
      "execution_count": null,
      "id": "d2278e91-3ada-44ea-aa53-aefe71564734",
      "metadata": {
        "tags": [],
        "id": "d2278e91-3ada-44ea-aa53-aefe71564734",
        "outputId": "a953592c-c25c-486c-8c51-b2ff4048e7c8"
      },
      "outputs": [
        {
          "name": "stdout",
          "output_type": "stream",
          "text": [
            "third row: [11 12 13 15 17]\n",
            "fourth column: [ 4  9 15 19 29]\n"
          ]
        }
      ],
      "source": [
        "# 3 & 4 Extracting 3rd row and fourth column of matrix a\n",
        "third_row = a[2, :]\n",
        "fourth_column=a[:, 3]\n",
        "print(f\"third row: {third_row}\")\n",
        "print(f\"fourth column: {fourth_column}\")"
      ]
    },
    {
      "cell_type": "code",
      "execution_count": null,
      "id": "2f208965-62a5-40e6-b6ce-968a6db9c98a",
      "metadata": {
        "tags": [],
        "id": "2f208965-62a5-40e6-b6ce-968a6db9c98a",
        "outputId": "abc2ac8f-3f3d-4e0b-e229-345a84472cd9"
      },
      "outputs": [
        {
          "name": "stdout",
          "output_type": "stream",
          "text": [
            "Sorted Row-Wise Matrix: [[ 1  2  3  4  5]\n",
            " [ 6  7  8  9 10]\n",
            " [11 12 13 15 17]\n",
            " [16 17 18 19 22]\n",
            " [21 23 24 28 29]]\n",
            "Sorted Column-Wise Matrix:[[ 1  2  3  4  5]\n",
            " [ 6  7  8  9 10]\n",
            " [11 12 13 15 17]\n",
            " [16 17 18 19 21]\n",
            " [24 28 23 29 22]]\n"
          ]
        }
      ],
      "source": [
        "# 5. Sort matrix row-wise and column-wise\n",
        "sorted_row_matrix = np.sort(a, axis=1)\n",
        "sorted_col_matrix = np.sort(a, axis=0)\n",
        "print(f\"Sorted Row-Wise Matrix: {sorted_row_matrix}\")\n",
        "print(f\"Sorted Column-Wise Matrix:{sorted_col_matrix}\")"
      ]
    },
    {
      "cell_type": "code",
      "execution_count": null,
      "id": "28fb77b9-e8c7-4e57-b58e-1b9fdd55160d",
      "metadata": {
        "tags": [],
        "id": "28fb77b9-e8c7-4e57-b58e-1b9fdd55160d",
        "outputId": "9dadc17f-d91a-4034-edb4-94f5a2c35472"
      },
      "outputs": [
        {
          "name": "stdout",
          "output_type": "stream",
          "text": [
            "b: [[  1   2  30  40  50]\n",
            " [ 60  70  80  90 100]\n",
            " [110 120 130 150 170]\n",
            " [160 170 180 190 220]\n",
            " [240 280 230 290 210]]\n"
          ]
        }
      ],
      "source": [
        "#  6. Apply for loop in matrix, if element is greater than 2, multiply element by 10 say it as “b”.\n",
        "matrix=a\n",
        "rows,column=a.shape\n",
        "for i in range(rows):\n",
        "    for j in range(column):\n",
        "        if matrix[i, j] > 2:\n",
        "            b[i, j] = matrix[i, j] * 10\n",
        "        else:\n",
        "            b[i, j] = matrix[i, j]\n",
        "print(f\"b: {b}\")"
      ]
    },
    {
      "cell_type": "code",
      "execution_count": null,
      "id": "e3545d65-f270-4ff5-a4d0-c47595db6011",
      "metadata": {
        "tags": [],
        "id": "e3545d65-f270-4ff5-a4d0-c47595db6011",
        "outputId": "e2628425-30f3-4399-9348-4a1861c8f450"
      },
      "outputs": [
        {
          "name": "stdout",
          "output_type": "stream",
          "text": [
            "Result of a + b: [[  2   4  33  44  55]\n",
            " [ 66  77  88  99 110]\n",
            " [121 132 143 165 187]\n",
            " [176 187 198 209 242]\n",
            " [264 308 253 319 231]]\n"
          ]
        }
      ],
      "source": [
        "# 7. add matrix a and b\n",
        "result = a + b\n",
        "print(f\"Result of a + b: {result}\")"
      ]
    },
    {
      "cell_type": "code",
      "execution_count": null,
      "id": "27b34c2a-eb23-48bb-93e3-b23dcce007d7",
      "metadata": {
        "tags": [],
        "id": "27b34c2a-eb23-48bb-93e3-b23dcce007d7",
        "outputId": "b8b5037d-2453-4050-9503-6a9fd0b0ef70"
      },
      "outputs": [
        {
          "name": "stdout",
          "output_type": "stream",
          "text": [
            "Result of a - b: [[   0    0  -27  -36  -45]\n",
            " [ -54  -63  -72  -81  -90]\n",
            " [ -99 -108 -117 -135 -153]\n",
            " [-144 -153 -162 -171 -198]\n",
            " [-216 -252 -207 -261 -189]]\n"
          ]
        }
      ],
      "source": [
        "# 8. subtract b from a\n",
        "result1 = a - b\n",
        "print(f\"Result of a - b: {result1}\")"
      ]
    },
    {
      "cell_type": "code",
      "execution_count": null,
      "id": "cce2ecc8-1772-44f8-a051-b10049854fef",
      "metadata": {
        "tags": [],
        "id": "cce2ecc8-1772-44f8-a051-b10049854fef",
        "outputId": "c4ce8c58-ec49-4a9c-e3f6-2f613c356cb5"
      },
      "outputs": [
        {
          "name": "stdout",
          "output_type": "stream",
          "text": [
            "Element-wise multiplication:[[   1    4   90  160  250]\n",
            " [ 360  490  640  810 1000]\n",
            " [1210 1440 1690 2250 2890]\n",
            " [2560 2890 3240 3610 4840]\n",
            " [5760 7840 5290 8410 4410]]\n",
            "Matrix multiplication:[[ 2291  2582  2450  2880  2690]\n",
            " [ 5146  5792  5700  6680  6440]\n",
            " [ 8641  9732  9590 11250 10830]\n",
            " [11336 12772 12660 14860 14360]\n",
            " [13914 15578 16000 18530 18700]]\n"
          ]
        }
      ],
      "source": [
        "# 9. Multiply matrix a by b element wise and matrix multiplication\n",
        "element_wise_result = a * b # Element-wise multiplication\n",
        "matrix_mult_result = np.dot(a, b)# Matrix multiplication\n",
        "print(f\"Element-wise multiplication:{element_wise_result}\")\n",
        "print(f\"Matrix multiplication:{matrix_mult_result}\")\n"
      ]
    },
    {
      "cell_type": "code",
      "execution_count": null,
      "id": "0cb1bfd8-d490-47cf-b3c5-abdc81ecb5dc",
      "metadata": {
        "tags": [],
        "id": "0cb1bfd8-d490-47cf-b3c5-abdc81ecb5dc",
        "outputId": "dd7e8aa0-7fdc-4188-98c3-3b18e89f49dc"
      },
      "outputs": [
        {
          "name": "stdout",
          "output_type": "stream",
          "text": [
            "Matrix a:[[0.05555556 0.11111111 0.16666667 0.22222222 0.27777778]\n",
            " [0.33333333 0.38888889 0.44444444 0.5        0.55555556]\n",
            " [0.61111111 0.66666667 0.72222222 0.83333333 0.94444444]\n",
            " [0.88888889 0.94444444 1.         1.05555556 1.22222222]\n",
            " [1.33333333 1.55555556 1.27777778 1.61111111 1.16666667]]\n",
            "Matrix b:[[ 0.05555556  0.11111111  1.66666667  2.22222222  2.77777778]\n",
            " [ 3.33333333  3.88888889  4.44444444  5.          5.55555556]\n",
            " [ 6.11111111  6.66666667  7.22222222  8.33333333  9.44444444]\n",
            " [ 8.88888889  9.44444444 10.         10.55555556 12.22222222]\n",
            " [13.33333333 15.55555556 12.77777778 16.11111111 11.66666667]]\n"
          ]
        }
      ],
      "source": [
        "# 10. Divide each element of matrix a and b by 18\n",
        "a_divided = a / 18\n",
        "b_divided = b / 18\n",
        "print(f\"Matrix a:{a_divided}\")\n",
        "print(f\"Matrix b:{b_divided}\")"
      ]
    },
    {
      "cell_type": "code",
      "execution_count": null,
      "id": "fb4238a9-a1e2-4a1f-9f84-566da3f76c53",
      "metadata": {
        "tags": [],
        "id": "fb4238a9-a1e2-4a1f-9f84-566da3f76c53",
        "outputId": "7e719e4a-795e-430c-fffe-d895d19332cd"
      },
      "outputs": [
        {
          "name": "stdout",
          "output_type": "stream",
          "text": [
            "Inverse of matrix a:\n",
            "[[-1.73333333e+00  7.33333333e-01  1.22222222e+00 -7.77777778e-01\n",
            "  -1.11111111e-01]\n",
            " [ 2.86666667e+00 -2.86666667e+00 -1.44444444e+00  1.55555556e+00\n",
            "   2.22222222e-01]\n",
            " [-1.33333333e+00  2.83333333e+00 -7.77777778e-01 -2.77777778e-01\n",
            "  -1.11111111e-01]\n",
            " [-1.00000000e+00  1.00000000e+00  1.00000000e+00 -1.00000000e+00\n",
            "   9.71445147e-17]\n",
            " [ 1.00000000e+00 -1.50000000e+00  5.75928194e-16  5.00000000e-01\n",
            "  -7.63278329e-17]]\n",
            "Inverse of matrix b:\n",
            "[[ 0.06666667 -0.22666667  0.02222222  0.06222222  0.00888889]\n",
            " [-0.11025641  0.20948718  0.02094017 -0.07598291 -0.0108547 ]\n",
            " [ 0.05128205  0.0525641  -0.15470085  0.07991453  0.0042735 ]\n",
            " [ 0.03846154 -0.07307692  0.04230769 -0.01923077  0.01153846]\n",
            " [-0.03846154  0.02307692  0.05769231 -0.03076923 -0.01153846]]\n",
            "Rank of matrix a: 5\n",
            "Rank of matrix b: 5\n",
            "Condition number of matrix a: 488.95680213636507\n",
            "Condition number of matrix b: 280.06462535565623\n",
            "Singular Value Decomposition of matrix a:\n",
            "U: [[-0.08744498 -0.29086377  0.70287404 -0.1919449  -0.61390299]\n",
            " [-0.22970998 -0.27581374  0.3055159  -0.55383624  0.68635673]\n",
            " [-0.39002817 -0.4320617   0.17971573  0.75937204  0.22859806]\n",
            " [-0.52594516 -0.43547101 -0.59647718 -0.28240169 -0.31338626]\n",
            " [-0.71473521  0.68045039  0.15666953 -0.00509609 -0.03961741]]\n",
            "S: [78.36923479  8.49592317  1.9679926   0.42853643  0.16027844]\n",
            "V^T: [[-0.39970764 -0.45192289 -0.42205725 -0.4974895  -0.45866259]\n",
            " [ 0.31366201  0.46521603 -0.10405255  0.15682909 -0.80608181]\n",
            " [-0.64569537 -0.02663481 -0.12405345  0.74554403 -0.10555998]\n",
            " [ 0.46063008 -0.21421374 -0.78203086  0.29135438  0.21324342]\n",
            " [ 0.33577872 -0.72989232  0.42904454  0.29527201 -0.28852223]]\n",
            "Singular Value Decomposition of matrix b:\n",
            "U: [[-0.07260733 -0.41849132  0.77490593 -0.2853386  -0.37107394]\n",
            " [-0.23000612 -0.26537831  0.17786678 -0.22749536  0.89066313]\n",
            " [-0.39052407 -0.41113874  0.03466932  0.82270801 -0.02013612]\n",
            " [-0.52659684 -0.40421321 -0.55113162 -0.43504358 -0.25748489]\n",
            " [-0.7155502   0.64962758  0.25087083 -0.02676501 -0.04816002]]\n",
            "S: [782.75422246  89.06829738  25.2432734    4.75723335   2.79490572]\n",
            "V^T: [[-0.39963778 -0.45095132 -0.42249637 -0.49791671 -0.45881185]\n",
            " [ 0.33311577  0.49882354 -0.11875241  0.10438031 -0.78435424]\n",
            " [-0.50356081 -0.20947122  0.01902012  0.801884   -0.24324596]\n",
            " [ 0.11188133  0.16353987 -0.89790474  0.23079419  0.31817982]\n",
            " [-0.68061193  0.69079266  0.02828432 -0.21189569  0.11778416]]\n",
            "norm of matrix a: 78.85429601486528\n",
            "norm of matrix b: 788.2290276309291\n"
          ]
        }
      ],
      "source": [
        "# 11. find the inverse, rank, condition number, singular value decomposition and the norm of matrices\n",
        "# a and b.\n",
        "\n",
        "# inverse of matrices a and b\n",
        "a_inv = np.linalg.inv(a)\n",
        "b_inv = np.linalg.inv(b)\n",
        "\n",
        "# rank of matrices a and b\n",
        "a_rank = np.linalg.matrix_rank(a)\n",
        "b_rank = np.linalg.matrix_rank(b)\n",
        "\n",
        "# condition number of matrices a and b\n",
        "a_cond = np.linalg.cond(a)\n",
        "b_cond = np.linalg.cond(b)\n",
        "\n",
        "# Singular Value Decomposition on matrices a and b\n",
        "a_u, a_s, a_vt = np.linalg.svd(a)\n",
        "b_u, b_s, b_vt = np.linalg.svd(b)\n",
        "\n",
        "# norm of matrices a and b\n",
        "a_norm = np.linalg.norm(a, 'fro')\n",
        "b_norm = np.linalg.norm(b, 'fro')\n",
        "\n",
        "print(\"Inverse of matrix a:\")\n",
        "print(a_inv)\n",
        "\n",
        "print(\"Inverse of matrix b:\")\n",
        "print(b_inv)\n",
        "\n",
        "print(\"Rank of matrix a:\", a_rank)\n",
        "print(\"Rank of matrix b:\", b_rank)\n",
        "\n",
        "print(\"Condition number of matrix a:\", a_cond)\n",
        "print(\"Condition number of matrix b:\", b_cond)\n",
        "\n",
        "print(\"Singular Value Decomposition of matrix a:\")\n",
        "print(\"U:\", a_u)\n",
        "print(\"S:\", a_s)\n",
        "print(\"V^T:\", a_vt)\n",
        "\n",
        "print(\"Singular Value Decomposition of matrix b:\")\n",
        "print(\"U:\", b_u)\n",
        "print(\"S:\", b_s)\n",
        "print(\"V^T:\", b_vt)\n",
        "\n",
        "print(\"norm of matrix a:\", a_norm)\n",
        "print(\"norm of matrix b:\", b_norm)"
      ]
    },
    {
      "cell_type": "code",
      "execution_count": null,
      "id": "4d5a9f75-a627-478a-b828-6212ddb4e5da",
      "metadata": {
        "tags": [],
        "id": "4d5a9f75-a627-478a-b828-6212ddb4e5da",
        "outputId": "0e119f42-c6ca-4a1d-f7af-05a1a68cb966"
      },
      "outputs": [
        {
          "name": "stdout",
          "output_type": "stream",
          "text": [
            "Norm of v: 39.03844259188627\n",
            "Inner product of v with itself: 1524\n",
            "Outer product of v with itself:\n",
            "[[ 16  36  60  76 116]\n",
            " [ 36  81 135 171 261]\n",
            " [ 60 135 225 285 435]\n",
            " [ 76 171 285 361 551]\n",
            " [116 261 435 551 841]]\n"
          ]
        }
      ],
      "source": [
        "# 12. ind the norm, inner product and outer product of column vector.\n",
        "\n",
        "v= fourth_column # Column Vector\n",
        "norm_v = np.linalg.norm(v)\n",
        "inner_product_v = np.dot(v.T, v)\n",
        "outer_product_v = np.outer(v, v.T)\n",
        "print(\"Norm of v:\", norm_v)\n",
        "print(\"Inner product of v with itself:\", inner_product_v)\n",
        "print(\"Outer product of v with itself:\")\n",
        "print(outer_product_v)\n"
      ]
    },
    {
      "cell_type": "code",
      "execution_count": null,
      "id": "affe9422-7a06-48cd-a845-77a8c0dc3cd3",
      "metadata": {
        "tags": [],
        "id": "affe9422-7a06-48cd-a845-77a8c0dc3cd3",
        "outputId": "3c770433-3065-4535-982a-cda9a908a163"
      },
      "outputs": [
        {
          "name": "stdout",
          "output_type": "stream",
          "text": [
            "False\n",
            "True\n"
          ]
        }
      ],
      "source": [
        "# 13. Write a function called derivative which takes input parameters f(x), a, method (forward,backward\n",
        "# and central) and h(step size) (with default values method=‘central’ and h = 0.01) and returns the\n",
        "# corresponding difference formula for derivative of function at a with step size h and then test your\n",
        "# function on e\n",
        "# x and cos x at x = 0.5.\n",
        "\n",
        "method=\"central\"\n",
        "h = 0.01\n",
        "a=0.5\n",
        "\n",
        "def f_exponential(a):\n",
        "    return np.exp(a)\n",
        "def f_cos(a):\n",
        "    return np.cos(a)\n",
        "\n",
        "def derivative(f, a, method, h):\n",
        "    if method ==\"central\":\n",
        "        return (f(a + h) - f(a - h)) / (2 * h)\n",
        "    else:\n",
        "        raise ValueError(\"Invalid method: Function only for central method\")\n",
        "\n",
        "# Test the function on e^x and cos(x) at x = 0.5\n",
        "x = 0.5\n",
        "if derivative(f_exponential, x, method, h) == f_exponential(x):\n",
        "    print(\"True\")\n",
        "else:\n",
        "    print(\"False\")\n",
        "\n",
        "# Test the function on e^x and cos(x) at x = 0.5 upto 4 decimals only\n",
        "if round(derivative(f_exponential, x, method, h), 4) == round(f_exponential(x), 4):\n",
        "    print(\"The derivative function works.\")\n",
        "else:\n",
        "    print(\"The derivative function does not work.\")\n"
      ]
    },
    {
      "cell_type": "code",
      "execution_count": null,
      "id": "1230fbe6-cec9-466c-92c7-0e2b83e8dd70",
      "metadata": {
        "tags": [],
        "id": "1230fbe6-cec9-466c-92c7-0e2b83e8dd70",
        "outputId": "7d7af0f9-210d-49d0-d31f-f7c5eec18744"
      },
      "outputs": [
        {
          "name": "stdout",
          "output_type": "stream",
          "text": [
            "                  created_at  entry_id  Soil Temperature  Soil Moisture  \\\n",
            "0  2022-12-14T14:19:11+05:30     10830             21.06            817   \n",
            "1  2022-12-14T14:20:13+05:30     10831             21.06            817   \n",
            "2  2022-12-14T14:21:15+05:30     10832             21.06            817   \n",
            "3  2022-12-14T14:22:18+05:30     10833             21.06            817   \n",
            "4  2022-12-14T14:23:20+05:30     10834             21.06            817   \n",
            "\n",
            "   Wind Speed  Rainfall  Temperature  Humidity  Pressure  Battery Voltage  \n",
            "0         0.0      0.25        25.38     45.09      1.94             4.14  \n",
            "1         0.0      0.25        25.27     46.52      1.94             4.14  \n",
            "2         0.0      0.25        25.34     45.79      1.94             4.14  \n",
            "3         0.0      0.25        25.13     44.91      1.94             4.15  \n",
            "4         0.0      0.25        24.95     45.12      1.94             4.15  \n"
          ]
        }
      ],
      "source": [
        "# 14. Download the Automatic Weather Station AWS Data. Read the .csv file using pandas library as a DataFrame.\n",
        "\n",
        "import pandas as pd\n",
        "file_path = r'D:/Stats_Course/AWS.csv'\n",
        "\n",
        "df = pd.read_csv(file_path) # Read the CSV file into a DataFrame\n",
        "print(df.head()) # Display the first few rows of the DataFrame"
      ]
    },
    {
      "cell_type": "code",
      "execution_count": null,
      "id": "81749bb0-a6f3-49e0-834a-9ac9d2daae74",
      "metadata": {
        "id": "81749bb0-a6f3-49e0-834a-9ac9d2daae74"
      },
      "outputs": [],
      "source": []
    },
    {
      "cell_type": "code",
      "execution_count": null,
      "id": "df74edc2-10bc-419e-8a28-68cb77e90ada",
      "metadata": {
        "id": "df74edc2-10bc-419e-8a28-68cb77e90ada"
      },
      "outputs": [],
      "source": []
    },
    {
      "cell_type": "code",
      "execution_count": null,
      "id": "a3480654-9084-4ce2-bc13-fe2cf8e5e47c",
      "metadata": {
        "id": "a3480654-9084-4ce2-bc13-fe2cf8e5e47c"
      },
      "outputs": [],
      "source": []
    }
  ],
  "metadata": {
    "kernelspec": {
      "display_name": "Python 3 (ipykernel)",
      "language": "python",
      "name": "python3"
    },
    "language_info": {
      "codemirror_mode": {
        "name": "ipython",
        "version": 3
      },
      "file_extension": ".py",
      "mimetype": "text/x-python",
      "name": "python",
      "nbconvert_exporter": "python",
      "pygments_lexer": "ipython3",
      "version": "3.11.3"
    },
    "colab": {
      "provenance": [],
      "include_colab_link": true
    }
  },
  "nbformat": 4,
  "nbformat_minor": 5
}