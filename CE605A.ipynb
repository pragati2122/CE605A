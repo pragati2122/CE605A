{
  "cells": [
    {
      "cell_type": "markdown",
      "metadata": {
        "id": "view-in-github",
        "colab_type": "text"
      },
      "source": [
        "<a href=\"https://colab.research.google.com/github/pragati2122/CE605A/blob/main/CE605A.ipynb\" target=\"_parent\"><img src=\"https://colab.research.google.com/assets/colab-badge.svg\" alt=\"Open In Colab\"/></a>"
      ]
    },
    {
      "cell_type": "code",
      "execution_count": null,
      "id": "97f04796-0cdf-4463-aa6f-62224ce8271e",
      "metadata": {
        "tags": [],
        "id": "97f04796-0cdf-4463-aa6f-62224ce8271e",
        "outputId": "498474f0-0283-40d3-fd89-9c3ea23b4851",
        "colab": {
          "base_uri": "https://localhost:8080/"
        }
      },
      "outputs": [
        {
          "name": "stdout",
          "output_type": "stream",
          "text": [
            "Enter 5 values for 1 row separated by spaces: \n",
            "Enter 5 values for 1 column separated by spaces: \n"
          ]
        }
      ],
      "source": [
        "import numpy as np\n",
        "\n",
        "# 1. Create a row and column vector using input method and manually.\n",
        "rows,cols = 1,5\n",
        "matrix_input = []\n",
        "for i in range(rows):\n",
        "    # Get the first row input in one go\n",
        "    values = input(f\"Enter {cols} values for {i+1} row separated by spaces: \").split()\n",
        "    matrix_input.append(values)\n",
        "row_vec_input = np.array(matrix_input)# Convert the list of lists to a NumPy array\n",
        "\n",
        "rows,cols = 5,1\n",
        "matrix_input = []\n",
        "for i in range(cols):\n",
        "    # Get the first row input in one go\n",
        "    values = input(f\"Enter {rows} values for {i+1} column separated by spaces: \").split()\n",
        "    matrix_input.append(values)\n",
        "column_vec_input = np.array(matrix_input)# Convert the list of lists to a NumPy array\n"
      ]
    },
    {
      "cell_type": "code",
      "execution_count": null,
      "id": "72fee9e3-7d8d-439a-8627-4046b2eb7d80",
      "metadata": {
        "tags": [],
        "id": "72fee9e3-7d8d-439a-8627-4046b2eb7d80"
      },
      "outputs": [],
      "source": [
        "# 1. Create a row and column vector manually.\n",
        "row_vec_manual = np.array([[1, 2, 3, 4, 5]])\n",
        "col_vec_manual = row_vec_manual.reshape(-1,1)\n"
      ]
    },
    {
      "cell_type": "code",
      "execution_count": null,
      "id": "9bff280a-df24-48c2-a680-45524d01f3c6",
      "metadata": {
        "id": "9bff280a-df24-48c2-a680-45524d01f3c6",
        "colab": {
          "base_uri": "https://localhost:8080/"
        },
        "outputId": "ef43733a-3816-432e-a2c6-a07f230bea05"
      },
      "outputs": [
        {
          "name": "stdout",
          "output_type": "stream",
          "text": [
            "Enter 5 values for 1 row separated by spaces: \n",
            "Enter 5 values for 2 row separated by spaces: \n",
            "Enter 5 values for 3 row separated by spaces: \n"
          ]
        }
      ],
      "source": [
        "# 2. Using input method to create a matrix\n",
        "rows,cols = 5,5\n",
        "matrix_input = []\n",
        "for i in range(rows):\n",
        "    # Get the first row input in one go\n",
        "    values = input(f\"Enter {rows} values for {i+1} row separated by spaces: \").split()\n",
        "    matrix_input.append(values)\n",
        "a = np.array(matrix_input)# Convert the list of lists to a NumPy array\n",
        "np.save(\"a.npy\", a)"
      ]
    },
    {
      "cell_type": "code",
      "execution_count": null,
      "id": "ae47f0fd-958f-4eb9-b46b-4e145097de16",
      "metadata": {
        "tags": [],
        "id": "ae47f0fd-958f-4eb9-b46b-4e145097de16"
      },
      "outputs": [],
      "source": [
        "\n",
        "# 2. using manual method to create a 5 by 5 matrix\n",
        "matrix_manual = np.array([\n",
        "    [1, 2, 3, 4, 5],\n",
        "    [6, 7, 8, 9, 10],\n",
        "    [11, 12, 13, 15, 17],\n",
        "    [16, 17, 18, 19, 22],\n",
        "    [24, 28, 23, 29, 21]\n",
        "])\n",
        "a=matrix_manual # saving with the name a1 so that the names are different\n",
        "#np.save(\"a.npy\", a)\n",
        "a"
      ]
    },
    {
      "cell_type": "code",
      "execution_count": null,
      "id": "d2278e91-3ada-44ea-aa53-aefe71564734",
      "metadata": {
        "tags": [],
        "id": "d2278e91-3ada-44ea-aa53-aefe71564734"
      },
      "outputs": [],
      "source": [
        "# 3 & 4 Extracting 3rd row and fourth column of matrix a\n",
        "third_row = a[2, :]\n",
        "fourth_column=a[:, 3]\n",
        "print(f\"third row: {third_row}\")\n",
        "print(f\"fourth column: {fourth_column}\")"
      ]
    },
    {
      "cell_type": "code",
      "execution_count": null,
      "id": "2f208965-62a5-40e6-b6ce-968a6db9c98a",
      "metadata": {
        "tags": [],
        "id": "2f208965-62a5-40e6-b6ce-968a6db9c98a"
      },
      "outputs": [],
      "source": [
        "# 5. Sort matrix row-wise and column-wise\n",
        "sorted_row_matrix = np.sort(a, axis=1)\n",
        "sorted_col_matrix = np.sort(a, axis=0)\n",
        "print(f\"Sorted Row-Wise Matrix: {sorted_row_matrix}\")\n",
        "print(f\"Sorted Column-Wise Matrix:{sorted_col_matrix}\")"
      ]
    },
    {
      "cell_type": "code",
      "execution_count": null,
      "id": "28fb77b9-e8c7-4e57-b58e-1b9fdd55160d",
      "metadata": {
        "tags": [],
        "id": "28fb77b9-e8c7-4e57-b58e-1b9fdd55160d"
      },
      "outputs": [],
      "source": [
        "#  6. Apply for loop in matrix, if element is greater than 2, multiply element by 10 say it as “b”.\n",
        "matrix=a\n",
        "rows,column=a.shape\n",
        "for i in range(rows):\n",
        "    for j in range(column):\n",
        "        if matrix[i, j] > 2:\n",
        "            b[i, j] = matrix[i, j] * 10\n",
        "        else:\n",
        "            b[i, j] = matrix[i, j]\n",
        "print(f\"b: {b}\")"
      ]
    },
    {
      "cell_type": "code",
      "execution_count": null,
      "id": "e3545d65-f270-4ff5-a4d0-c47595db6011",
      "metadata": {
        "tags": [],
        "id": "e3545d65-f270-4ff5-a4d0-c47595db6011"
      },
      "outputs": [],
      "source": [
        "# 7. add matrix a and b\n",
        "result = a + b\n",
        "print(f\"Result of a + b: {result}\")"
      ]
    },
    {
      "cell_type": "code",
      "execution_count": null,
      "id": "27b34c2a-eb23-48bb-93e3-b23dcce007d7",
      "metadata": {
        "tags": [],
        "id": "27b34c2a-eb23-48bb-93e3-b23dcce007d7"
      },
      "outputs": [],
      "source": [
        "# 8. subtract b from a\n",
        "result1 = a - b\n",
        "print(f\"Result of a - b: {result1}\")"
      ]
    },
    {
      "cell_type": "code",
      "execution_count": null,
      "id": "cce2ecc8-1772-44f8-a051-b10049854fef",
      "metadata": {
        "tags": [],
        "id": "cce2ecc8-1772-44f8-a051-b10049854fef"
      },
      "outputs": [],
      "source": [
        "# 9. Multiply matrix a by b element wise and matrix multiplication\n",
        "element_wise_result = a * b # Element-wise multiplication\n",
        "matrix_mult_result = np.dot(a, b)# Matrix multiplication\n",
        "print(f\"Element-wise multiplication:{element_wise_result}\")\n",
        "print(f\"Matrix multiplication:{matrix_mult_result}\")\n"
      ]
    },
    {
      "cell_type": "code",
      "execution_count": null,
      "id": "0cb1bfd8-d490-47cf-b3c5-abdc81ecb5dc",
      "metadata": {
        "tags": [],
        "id": "0cb1bfd8-d490-47cf-b3c5-abdc81ecb5dc"
      },
      "outputs": [],
      "source": [
        "# 10. Divide each element of matrix a and b by 18\n",
        "a_divided = a / 18\n",
        "b_divided = b / 18\n",
        "print(f\"Matrix a:{a_divided}\")\n",
        "print(f\"Matrix b:{b_divided}\")"
      ]
    },
    {
      "cell_type": "code",
      "execution_count": null,
      "id": "fb4238a9-a1e2-4a1f-9f84-566da3f76c53",
      "metadata": {
        "tags": [],
        "id": "fb4238a9-a1e2-4a1f-9f84-566da3f76c53"
      },
      "outputs": [],
      "source": [
        "# 11. find the inverse, rank, condition number, singular value decomposition and the norm of matrices\n",
        "# a and b.\n",
        "\n",
        "# inverse of matrices a and b\n",
        "a_inv = np.linalg.inv(a)\n",
        "b_inv = np.linalg.inv(b)\n",
        "\n",
        "# rank of matrices a and b\n",
        "a_rank = np.linalg.matrix_rank(a)\n",
        "b_rank = np.linalg.matrix_rank(b)\n",
        "\n",
        "# condition number of matrices a and b\n",
        "a_cond = np.linalg.cond(a)\n",
        "b_cond = np.linalg.cond(b)\n",
        "\n",
        "# Singular Value Decomposition on matrices a and b\n",
        "a_u, a_s, a_vt = np.linalg.svd(a)\n",
        "b_u, b_s, b_vt = np.linalg.svd(b)\n",
        "\n",
        "# norm of matrices a and b\n",
        "a_norm = np.linalg.norm(a, 'fro')\n",
        "b_norm = np.linalg.norm(b, 'fro')\n",
        "\n",
        "print(\"Inverse of matrix a:\")\n",
        "print(a_inv)\n",
        "\n",
        "print(\"Inverse of matrix b:\")\n",
        "print(b_inv)\n",
        "\n",
        "print(\"Rank of matrix a:\", a_rank)\n",
        "print(\"Rank of matrix b:\", b_rank)\n",
        "\n",
        "print(\"Condition number of matrix a:\", a_cond)\n",
        "print(\"Condition number of matrix b:\", b_cond)\n",
        "\n",
        "print(\"Singular Value Decomposition of matrix a:\")\n",
        "print(\"U:\", a_u)\n",
        "print(\"S:\", a_s)\n",
        "print(\"V^T:\", a_vt)\n",
        "\n",
        "print(\"Singular Value Decomposition of matrix b:\")\n",
        "print(\"U:\", b_u)\n",
        "print(\"S:\", b_s)\n",
        "print(\"V^T:\", b_vt)\n",
        "\n",
        "print(\"norm of matrix a:\", a_norm)\n",
        "print(\"norm of matrix b:\", b_norm)"
      ]
    },
    {
      "cell_type": "code",
      "execution_count": null,
      "id": "4d5a9f75-a627-478a-b828-6212ddb4e5da",
      "metadata": {
        "tags": [],
        "id": "4d5a9f75-a627-478a-b828-6212ddb4e5da"
      },
      "outputs": [],
      "source": [
        "# 12. ind the norm, inner product and outer product of column vector.\n",
        "\n",
        "v= fourth_column # Column Vector\n",
        "norm_v = np.linalg.norm(v)\n",
        "inner_product_v = np.dot(v.T, v)\n",
        "outer_product_v = np.outer(v, v.T)\n",
        "print(\"Norm of v:\", norm_v)\n",
        "print(\"Inner product of v with itself:\", inner_product_v)\n",
        "print(\"Outer product of v with itself:\")\n",
        "print(outer_product_v)\n"
      ]
    },
    {
      "cell_type": "code",
      "execution_count": null,
      "id": "affe9422-7a06-48cd-a845-77a8c0dc3cd3",
      "metadata": {
        "tags": [],
        "id": "affe9422-7a06-48cd-a845-77a8c0dc3cd3"
      },
      "outputs": [],
      "source": [
        "# 13. Write a function called derivative which takes input parameters f(x), a, method (forward,backward\n",
        "# and central) and h(step size) (with default values method=‘central’ and h = 0.01) and returns the\n",
        "# corresponding difference formula for derivative of function at a with step size h and then test your\n",
        "# function on e\n",
        "# x and cos x at x = 0.5.\n",
        "\n",
        "method=\"central\"\n",
        "h = 0.01\n",
        "a=0.5\n",
        "\n",
        "def f_exponential(a):\n",
        "    return np.exp(a)\n",
        "def f_cos(a):\n",
        "    return np.cos(a)\n",
        "\n",
        "def derivative(f, a, method, h):\n",
        "    if method ==\"central\":\n",
        "        return (f(a + h) - f(a - h)) / (2 * h)\n",
        "    else:\n",
        "        raise ValueError(\"Invalid method: Function only for central method\")\n",
        "\n",
        "# Test the function on e^x and cos(x) at x = 0.5\n",
        "x = 0.5\n",
        "if derivative(f_exponential, x, method, h) == f_exponential(x):\n",
        "    print(\"True\")\n",
        "else:\n",
        "    print(\"False\")\n",
        "\n",
        "# Test the function on e^x and cos(x) at x = 0.5 upto 4 decimals only\n",
        "if round(derivative(f_exponential, x, method, h), 4) == round(f_exponential(x), 4):\n",
        "    print(\"The derivative function works.\")\n",
        "else:\n",
        "    print(\"The derivative function does not work.\")\n"
      ]
    },
    {
      "cell_type": "code",
      "execution_count": null,
      "id": "1230fbe6-cec9-466c-92c7-0e2b83e8dd70",
      "metadata": {
        "tags": [],
        "id": "1230fbe6-cec9-466c-92c7-0e2b83e8dd70"
      },
      "outputs": [],
      "source": [
        "# 14. Download the Automatic Weather Station AWS Data. Read the .csv file using pandas library as a DataFrame.\n",
        "\n",
        "import pandas as pd\n",
        "file_path = r'D:/Stats_Course/AWS.csv'\n",
        "\n",
        "df = pd.read_csv(file_path) # Read the CSV file into a DataFrame\n",
        "print(df.head()) # Display the first few rows of the DataFrame"
      ]
    },
    {
      "cell_type": "code",
      "execution_count": null,
      "id": "81749bb0-a6f3-49e0-834a-9ac9d2daae74",
      "metadata": {
        "id": "81749bb0-a6f3-49e0-834a-9ac9d2daae74"
      },
      "outputs": [],
      "source": []
    },
    {
      "cell_type": "code",
      "execution_count": null,
      "id": "df74edc2-10bc-419e-8a28-68cb77e90ada",
      "metadata": {
        "id": "df74edc2-10bc-419e-8a28-68cb77e90ada"
      },
      "outputs": [],
      "source": []
    },
    {
      "cell_type": "code",
      "execution_count": null,
      "id": "a3480654-9084-4ce2-bc13-fe2cf8e5e47c",
      "metadata": {
        "id": "a3480654-9084-4ce2-bc13-fe2cf8e5e47c"
      },
      "outputs": [],
      "source": []
    }
  ],
  "metadata": {
    "kernelspec": {
      "display_name": "Python 3 (ipykernel)",
      "language": "python",
      "name": "python3"
    },
    "language_info": {
      "codemirror_mode": {
        "name": "ipython",
        "version": 3
      },
      "file_extension": ".py",
      "mimetype": "text/x-python",
      "name": "python",
      "nbconvert_exporter": "python",
      "pygments_lexer": "ipython3",
      "version": "3.11.3"
    },
    "colab": {
      "provenance": [],
      "include_colab_link": true
    }
  },
  "nbformat": 4,
  "nbformat_minor": 5
}